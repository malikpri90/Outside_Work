{
 "cells": [
  {
   "cell_type": "code",
   "execution_count": 2,
   "metadata": {},
   "outputs": [],
   "source": [
    "import pandas as pd\n",
    "import numpy as np\n",
    "from dateutil.relativedelta import *\n",
    "import seaborn as sns\n",
    "from pandas import DataFrame\n",
    "import datetime\n",
    "\n"
   ]
  },
  {
   "cell_type": "markdown",
   "metadata": {},
   "source": [
    "## Prepare Factors"
   ]
  },
  {
   "cell_type": "code",
   "execution_count": 32,
   "metadata": {},
   "outputs": [
    {
     "data": {
      "text/plain": [
       "(2837, 991)"
      ]
     },
     "execution_count": 32,
     "metadata": {},
     "output_type": "execute_result"
    }
   ],
   "source": [
    "factors = pd.read_csv(r'C:\\Users\\anoble\\Git\\Outside_Work\\AFL Fantasy\\Data\\Inputs\\factors.csv')\n",
    "\n",
    "\n",
    "## Convert position variables into category column. COuld also consider category_encoders sklearn package\n",
    "factors['position_grouped'] = factors['position_grouped'].astype('category')\n",
    "\n",
    "## One hot encoding to convert category variables into dummy columns\n",
    "factors = pd.get_dummies(factors)\n",
    "\n",
    "# Drop nulls (165 rows dropped, leaving 2837 after removing Nulls)\n",
    "factors = factors.dropna(axis= 0, how='any')\n",
    "\n",
    "factors.shape"
   ]
  },
  {
   "cell_type": "markdown",
   "metadata": {},
   "source": [
    "y = factors['avg_score']\n",
    "\n",
    "X = factors ['player_name'\n",
    "    ,'matches'\n",
    "    ,'year_played'\n",
    "    ,'years_active'\n",
    "    ,'year'\n",
    "    ,'position_grouped'\n",
    "    ,'player_height_cm_1yr'\n",
    "    ,'player_weight_kg_1yr'\n",
    "    ,'kicks_1yr'\n",
    "    ,'marks_1yr'\n",
    "    ,'handballs_1yr'\n",
    "    ,'disposals_1yr'\n",
    "    ,'effective_disposals_1yr'\n",
    "    ,'disposal_efficiency_percentage_1yr'\n",
    "    ,'goals_1yr'\n",
    "    ,'behinds_1yr'\n",
    "    ,'hitouts_1yr'\n",
    "    ,'tackles_1yr'\n",
    "    ,'rebounds_1yr'\n",
    "    ,'inside_fifties_1yr'\n",
    "    ,'clearances_1yr'\n",
    "    ,'clangers_1yr'\n",
    "    ,'free_kicks_for_1yr'\n",
    "    ,'free_kicks_against_1yr'\n",
    "    ,'brownlow_votes_1yr'\n",
    "    ,'contested_possessions_1yr'\n",
    "    ,'uncontested_possessions_1yr'\n",
    "    ,'contested_marks_1yr'\n",
    "    ,'marks_inside_fifty_1yr'\n",
    "    ,'one_percenters_1yr'\n",
    "    ,'bounces_1yr'\n",
    "    ,'goal_assists_1yr'\n",
    "    ,'time_on_ground_percentage_1yr'\n",
    "    ,'centre_clearances_1yr'\n",
    "    ,'stoppage_clearances_1yr'\n",
    "    ,'score_involvements_1yr'\n",
    "    ,'metres_gained_1yr'\n",
    "    ,'turnovers_1yr'\n",
    "    ,'intercepts_1yr'\n",
    "    ,'tackles_inside_fifty_1yr'\n",
    "    ,'contest_def_losses_1yr'\n",
    "    ,'contest_def_one_on_ones_1yr'\n",
    "    ,'contest_off_one_on_ones_1yr'\n",
    "    ,'contest_off_wins_1yr'\n",
    "    ,'def_half_pressure_acts_1yr'\n",
    "    ,'effective_kicks_1yr'\n",
    "    ,'f50_ground_ball_gets_1yr'\n",
    "    ,'ground_ball_gets_1yr'\n",
    "    ,'hitouts_to_advantage_1yr'\n",
    "    ,'hitout_win_percentage_1yr'\n",
    "    ,'intercept_marks_1yr'\n",
    "    ,'marks_on_lead_1yr'\n",
    "    ,'pressure_acts_1yr'\n",
    "    ,'rating_points_1yr'\n",
    "    ,'ruck_contests_1yr'\n",
    "    ,'score_launches_1yr'\n",
    "    ,'shots_at_goal_1yr'\n",
    "    ,'spoils_1yr'\n",
    "    ,'player_height_cm_3yr'\n",
    "    ,'player_weight_kg_3yr'\n",
    "    ,'kicks_3yr'\n",
    "    ,'marks_3yr'\n",
    "    ,'handballs_3yr'\n",
    "    ,'disposals_3yr'\n",
    "    ,'effective_disposals_3yr'\n",
    "    ,'disposal_efficiency_percentage_3yr'\n",
    "    ,'goals_3yr'\n",
    "    ,'behinds_3yr'\n",
    "    ,'hitouts_3yr'\n",
    "    ,'tackles_3yr'\n",
    "    ,'rebounds_3yr'\n",
    "    ,'inside_fifties_3yr'\n",
    "    ,'clearances_3yr'\n",
    "    ,'clangers_3yr'\n",
    "    ,'free_kicks_for_3yr'\n",
    "    ,'free_kicks_against_3yr'\n",
    "    ,'brownlow_votes_3yr'\n",
    "    ,'contested_possessions_3yr'\n",
    "    ,'uncontested_possessions_3yr'\n",
    "    ,'contested_marks_3yr'\n",
    "    ,'marks_inside_fifty_3yr'\n",
    "    ,'one_percenters_3yr'\n",
    "    ,'bounces_3yr'\n",
    "    ,'goal_assists_3yr'\n",
    "    ,'time_on_ground_percentage_3yr'\n",
    "    ,'centre_clearances_3yr'\n",
    "    ,'stoppage_clearances_3yr'\n",
    "    ,'score_involvements_3yr'\n",
    "    ,'metres_gained_3yr'\n",
    "    ,'turnovers_3yr'\n",
    "    ,'intercepts_3yr'\n",
    "    ,'tackles_inside_fifty_3yr'\n",
    "    ,'contest_def_losses_3yr'\n",
    "    ,'contest_def_one_on_ones_3yr'\n",
    "    ,'contest_off_one_on_ones_3yr'\n",
    "    ,'contest_off_wins_3yr'\n",
    "    ,'def_half_pressure_acts_3yr'\n",
    "    ,'effective_kicks_3yr'\n",
    "    ,'f50_ground_ball_gets_3yr'\n",
    "    ,'ground_ball_gets_3yr'\n",
    "    ,'hitouts_to_advantage_3yr'\n",
    "    ,'hitout_win_percentage_3yr'\n",
    "    ,'intercept_marks_3yr'\n",
    "    ,'marks_on_lead_3yr'\n",
    "    ,'pressure_acts_3yr'\n",
    "    ,'rating_points_3yr'\n",
    "    ,'ruck_contests_3yr'\n",
    "    ,'score_launches_3yr'\n",
    "    ,'shots_at_goal_3yr'\n",
    "    ,'spoils_3yr'\n",
    "    ,'player_height_cm_5yr'\n",
    "    ,'player_weight_kg_5yr'\n",
    "    ,'kicks_5yr'\n",
    "    ,'marks_5yr'\n",
    "    ,'handballs_5yr'\n",
    "    ,'disposals_5yr'\n",
    "    ,'effective_disposals_5yr'\n",
    "    ,'disposal_efficiency_percentage_5yr'\n",
    "    ,'goals_5yr'\n",
    "    ,'behinds_5yr'\n",
    "    ,'hitouts_5yr'\n",
    "    ,'tackles_5yr'\n",
    "    ,'rebounds_5yr'\n",
    "    ,'inside_fifties_5yr'\n",
    "    ,'clearances_5yr'\n",
    "    ,'clangers_5yr'\n",
    "    ,'free_kicks_for_5yr'\n",
    "    ,'free_kicks_against_5yr'\n",
    "    ,'brownlow_votes_5yr'\n",
    "    ,'contested_possessions_5yr'\n",
    "    ,'uncontested_possessions_5yr'\n",
    "    ,'contested_marks_5yr'\n",
    "    ,'marks_inside_fifty_5yr'\n",
    "    ,'one_percenters_5yr'\n",
    "    ,'bounces_5yr'\n",
    "    ,'goal_assists_5yr'\n",
    "    ,'time_on_ground_percentage_5yr'\n",
    "    ,'centre_clearances_5yr'\n",
    "    ,'stoppage_clearances_5yr'\n",
    "    ,'score_involvements_5yr'\n",
    "    ,'metres_gained_5yr'\n",
    "    ,'turnovers_5yr'\n",
    "    ,'intercepts_5yr'\n",
    "    ,'tackles_inside_fifty_5yr'\n",
    "    ,'contest_def_losses_5yr'\n",
    "    ,'contest_def_one_on_ones_5yr'\n",
    "    ,'contest_off_one_on_ones_5yr'\n",
    "    ,'contest_off_wins_5yr'\n",
    "    ,'def_half_pressure_acts_5yr'\n",
    "    ,'effective_kicks_5yr'\n",
    "    ,'f50_ground_ball_gets_5yr'\n",
    "    ,'ground_ball_gets_5yr'\n",
    "    ,'hitouts_to_advantage_5yr'\n",
    "    ,'hitout_win_percentage_5yr'\n",
    "    ,'intercept_marks_5yr'\n",
    "    ,'marks_on_lead_5yr'\n",
    "    ,'pressure_acts_5yr'\n",
    "    ,'rating_points_5yr'\n",
    "    ,'ruck_contests_5yr'\n",
    "    ,'score_launches_5yr'\n",
    "    ,'shots_at_goal_5yr'\n",
    "    ,'spoils_5yr'\n",
    "    ,'position_grouped_FB'\n",
    "    ,'position_grouped_BP'\n",
    "    ,'position_grouped_CHB'\n",
    "    ,'position_grouped_HBF'\n",
    "    ,'position_grouped_RUCK'\n",
    "    ,'position_grouped_C'\n",
    "    ,'position_grouped_W'\n",
    "    ,'position_grouped_FF'\n",
    "    ,'position_grouped_FP'\n",
    "    ,'position_grouped_HFF'\n",
    "    ,'position_grouped_CHF']\n",
    "    .drop()"
   ]
  },
  {
   "cell_type": "code",
   "execution_count": 33,
   "metadata": {},
   "outputs": [],
   "source": [
    "y = factors['avg_score']\n",
    "\n",
    "X = factors.drop(['avg_score'\n",
    "    ,'year_played'\n",
    "    ,'years_active'\n",
    "    ,'year'\n",
    "    ], axis = 1)"
   ]
  },
  {
   "cell_type": "code",
   "execution_count": 34,
   "metadata": {},
   "outputs": [
    {
     "data": {
      "text/html": [
       "<style>#sk-container-id-1 {color: black;background-color: white;}#sk-container-id-1 pre{padding: 0;}#sk-container-id-1 div.sk-toggleable {background-color: white;}#sk-container-id-1 label.sk-toggleable__label {cursor: pointer;display: block;width: 100%;margin-bottom: 0;padding: 0.3em;box-sizing: border-box;text-align: center;}#sk-container-id-1 label.sk-toggleable__label-arrow:before {content: \"▸\";float: left;margin-right: 0.25em;color: #696969;}#sk-container-id-1 label.sk-toggleable__label-arrow:hover:before {color: black;}#sk-container-id-1 div.sk-estimator:hover label.sk-toggleable__label-arrow:before {color: black;}#sk-container-id-1 div.sk-toggleable__content {max-height: 0;max-width: 0;overflow: hidden;text-align: left;background-color: #f0f8ff;}#sk-container-id-1 div.sk-toggleable__content pre {margin: 0.2em;color: black;border-radius: 0.25em;background-color: #f0f8ff;}#sk-container-id-1 input.sk-toggleable__control:checked~div.sk-toggleable__content {max-height: 200px;max-width: 100%;overflow: auto;}#sk-container-id-1 input.sk-toggleable__control:checked~label.sk-toggleable__label-arrow:before {content: \"▾\";}#sk-container-id-1 div.sk-estimator input.sk-toggleable__control:checked~label.sk-toggleable__label {background-color: #d4ebff;}#sk-container-id-1 div.sk-label input.sk-toggleable__control:checked~label.sk-toggleable__label {background-color: #d4ebff;}#sk-container-id-1 input.sk-hidden--visually {border: 0;clip: rect(1px 1px 1px 1px);clip: rect(1px, 1px, 1px, 1px);height: 1px;margin: -1px;overflow: hidden;padding: 0;position: absolute;width: 1px;}#sk-container-id-1 div.sk-estimator {font-family: monospace;background-color: #f0f8ff;border: 1px dotted black;border-radius: 0.25em;box-sizing: border-box;margin-bottom: 0.5em;}#sk-container-id-1 div.sk-estimator:hover {background-color: #d4ebff;}#sk-container-id-1 div.sk-parallel-item::after {content: \"\";width: 100%;border-bottom: 1px solid gray;flex-grow: 1;}#sk-container-id-1 div.sk-label:hover label.sk-toggleable__label {background-color: #d4ebff;}#sk-container-id-1 div.sk-serial::before {content: \"\";position: absolute;border-left: 1px solid gray;box-sizing: border-box;top: 0;bottom: 0;left: 50%;z-index: 0;}#sk-container-id-1 div.sk-serial {display: flex;flex-direction: column;align-items: center;background-color: white;padding-right: 0.2em;padding-left: 0.2em;position: relative;}#sk-container-id-1 div.sk-item {position: relative;z-index: 1;}#sk-container-id-1 div.sk-parallel {display: flex;align-items: stretch;justify-content: center;background-color: white;position: relative;}#sk-container-id-1 div.sk-item::before, #sk-container-id-1 div.sk-parallel-item::before {content: \"\";position: absolute;border-left: 1px solid gray;box-sizing: border-box;top: 0;bottom: 0;left: 50%;z-index: -1;}#sk-container-id-1 div.sk-parallel-item {display: flex;flex-direction: column;z-index: 1;position: relative;background-color: white;}#sk-container-id-1 div.sk-parallel-item:first-child::after {align-self: flex-end;width: 50%;}#sk-container-id-1 div.sk-parallel-item:last-child::after {align-self: flex-start;width: 50%;}#sk-container-id-1 div.sk-parallel-item:only-child::after {width: 0;}#sk-container-id-1 div.sk-dashed-wrapped {border: 1px dashed gray;margin: 0 0.4em 0.5em 0.4em;box-sizing: border-box;padding-bottom: 0.4em;background-color: white;}#sk-container-id-1 div.sk-label label {font-family: monospace;font-weight: bold;display: inline-block;line-height: 1.2em;}#sk-container-id-1 div.sk-label-container {text-align: center;}#sk-container-id-1 div.sk-container {/* jupyter's `normalize.less` sets `[hidden] { display: none; }` but bootstrap.min.css set `[hidden] { display: none !important; }` so we also need the `!important` here to be able to override the default hidden behavior on the sphinx rendered scikit-learn.org. See: https://github.com/scikit-learn/scikit-learn/issues/21755 */display: inline-block !important;position: relative;}#sk-container-id-1 div.sk-text-repr-fallback {display: none;}</style><div id=\"sk-container-id-1\" class=\"sk-top-container\"><div class=\"sk-text-repr-fallback\"><pre>LinearRegression()</pre><b>In a Jupyter environment, please rerun this cell to show the HTML representation or trust the notebook. <br />On GitHub, the HTML representation is unable to render, please try loading this page with nbviewer.org.</b></div><div class=\"sk-container\" hidden><div class=\"sk-item\"><div class=\"sk-estimator sk-toggleable\"><input class=\"sk-toggleable__control sk-hidden--visually\" id=\"sk-estimator-id-1\" type=\"checkbox\" checked><label for=\"sk-estimator-id-1\" class=\"sk-toggleable__label sk-toggleable__label-arrow\">LinearRegression</label><div class=\"sk-toggleable__content\"><pre>LinearRegression()</pre></div></div></div></div></div>"
      ],
      "text/plain": [
       "LinearRegression()"
      ]
     },
     "execution_count": 34,
     "metadata": {},
     "output_type": "execute_result"
    }
   ],
   "source": [
    "from sklearn.model_selection import train_test_split\n",
    "\n",
    "pd.DataFrame(X).fillna(0)\n",
    "\n",
    "X_train,X_test,y_train,y_test=train_test_split(\n",
    "    X,y, \n",
    "    train_size = 0.80, \n",
    "    random_state = 1)\n",
    "\n",
    "\n",
    "from sklearn.linear_model import LinearRegression\n",
    "\n",
    "lr = LinearRegression()\n",
    "\n",
    "## Build the model using the training data.\n",
    "\n",
    "lr.fit(X_train,y_train)"
   ]
  },
  {
   "cell_type": "code",
   "execution_count": 41,
   "metadata": {},
   "outputs": [
    {
     "data": {
      "text/plain": [
       "-79779714387.714"
      ]
     },
     "execution_count": 41,
     "metadata": {},
     "output_type": "execute_result"
    }
   ],
   "source": [
    "## Test data error\n",
    "lr.score(X_test, y_test).round(3)\n"
   ]
  },
  {
   "cell_type": "code",
   "execution_count": 37,
   "metadata": {},
   "outputs": [
    {
     "data": {
      "text/plain": [
       "0.823"
      ]
     },
     "execution_count": 37,
     "metadata": {},
     "output_type": "execute_result"
    }
   ],
   "source": [
    "## Train data error\n",
    "lr.score(X_train, y_train).round(3)"
   ]
  },
  {
   "cell_type": "code",
   "execution_count": 59,
   "metadata": {},
   "outputs": [],
   "source": [
    "data_new = X_train\n",
    "results = lr.predict(data_new)\n",
    "\n",
    "np.savetxt(r'C:\\Users\\anoble\\Git\\Outside_Work\\AFL Fantasy\\Data\\Inputs\\predictions.csv', results)"
   ]
  },
  {
   "cell_type": "code",
   "execution_count": 62,
   "metadata": {},
   "outputs": [],
   "source": [
    "np.savetxt(r'C:\\Users\\anoble\\Git\\Outside_Work\\AFL Fantasy\\Data\\Inputs\\train.csv', y_train)"
   ]
  },
  {
   "cell_type": "code",
   "execution_count": null,
   "metadata": {},
   "outputs": [],
   "source": [
    "sns.pairplot(\n",
    "    joined_data[[\"age\", \"afl_fantasy_score\", \"player_height_cm\", \"player_weight_kg\"]],\n",
    "    # hue = \"position_grouped\",\n",
    "    height = 3)\n",
    "    # palette = \"Set1\")"
   ]
  },
  {
   "cell_type": "code",
   "execution_count": null,
   "metadata": {},
   "outputs": [],
   "source": [
    "sns.heatmap(joined_data[[\"age\", \"afl_fantasy_score\", \"player_height_cm\", \"player_weight_kg\"]].corr(), annot= True)"
   ]
  }
 ],
 "metadata": {
  "kernelspec": {
   "display_name": "AFL",
   "language": "python",
   "name": "python3"
  },
  "language_info": {
   "codemirror_mode": {
    "name": "ipython",
    "version": 3
   },
   "file_extension": ".py",
   "mimetype": "text/x-python",
   "name": "python",
   "nbconvert_exporter": "python",
   "pygments_lexer": "ipython3",
   "version": "3.11.7"
  }
 },
 "nbformat": 4,
 "nbformat_minor": 2
}
